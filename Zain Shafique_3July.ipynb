{
 "cells": [
  {
   "cell_type": "markdown",
   "id": "ce0ada01-b151-4286-b453-c14f44b9069b",
   "metadata": {},
   "source": [
    "# 1. Learn About APIs\n",
    "### What is an API?\n",
    "##### API stands for Application Programming Interface. It allows different software systems to communicate with each other.\n",
    "\n",
    "### How Do Web and Mobile Teams Use APIs?\n",
    "#### Web Teams use APIs to:\n",
    "##### 1. Fetch user data (e.g., user profile from a backend server)\n",
    "##### 2. Display dynamic content (e.g., weather data, news feed)\n",
    "##### 3. Submit forms (e.g., login, sign-up, post comments)\n",
    "\n",
    "#### Mobile Teams use APIs to:\n",
    "##### 1. Sync data between the mobile app and the server (e.g., chat messages, posts)\n",
    "##### 2. Pull data from third-party services (e.g., maps, payments)\n",
    "##### 3. Push notifications, analytics, or updates"
   ]
  },
  {
   "cell_type": "markdown",
   "id": "cda1c19c-3215-45bc-a29c-d42e2c7d8cdd",
   "metadata": {},
   "source": [
    "# 2. Public API Examples\n",
    "#### a. Cat Facts API"
   ]
  },
  {
   "cell_type": "code",
   "execution_count": 1,
   "id": "31401dea-ae44-4aaf-89cb-2211e3783d0a",
   "metadata": {},
   "outputs": [
    {
     "name": "stdout",
     "output_type": "stream",
     "text": [
      "{'data': ['Cats are often lactose intolerant, so stop givin them milk!']}\n"
     ]
    }
   ],
   "source": [
    "import requests\n",
    "response = requests.get(\"https://meowfacts.herokuapp.com/\")\n",
    "print(response.json())"
   ]
  },
  {
   "cell_type": "markdown",
   "id": "59b85ec5-9d8f-4e37-9b63-711c7bf54908",
   "metadata": {},
   "source": [
    "#### b. Weather API (Open-Meteo)"
   ]
  },
  {
   "cell_type": "code",
   "execution_count": 6,
   "id": "2adf0e88-5ae2-428d-a645-e7d2be6b17b4",
   "metadata": {},
   "outputs": [
    {
     "name": "stdout",
     "output_type": "stream",
     "text": [
      "{'latitude': 35.0, 'longitude': 139.0, 'generationtime_ms': 0.050067901611328125, 'utc_offset_seconds': 0, 'timezone': 'GMT', 'timezone_abbreviation': 'GMT', 'elevation': 234.0, 'current_weather_units': {'time': 'iso8601', 'interval': 'seconds', 'temperature': '°C', 'windspeed': 'km/h', 'winddirection': '°', 'is_day': '', 'weathercode': 'wmo code'}, 'current_weather': {'time': '2025-07-03T20:30', 'interval': 900, 'temperature': 22.6, 'windspeed': 3.1, 'winddirection': 315, 'is_day': 1, 'weathercode': 1}}\n"
     ]
    }
   ],
   "source": [
    "response = requests.get(\n",
    "  \"https://api.open-meteo.com/v1/forecast?latitude=35&longitude=139&current_weather=true\"\n",
    ")\n",
    "print(response.json())"
   ]
  },
  {
   "cell_type": "markdown",
   "id": "002cebbb-7ad7-46ea-9c45-9a8f844e2f0a",
   "metadata": {},
   "source": [
    "# 3. Use json.loads() and json.dumps()"
   ]
  },
  {
   "cell_type": "code",
   "execution_count": 4,
   "id": "4fa6b1ea-a89b-4c83-afb1-9f27bab0f323",
   "metadata": {},
   "outputs": [
    {
     "name": "stdout",
     "output_type": "stream",
     "text": [
      "JSON String: {\"data\":[\"A cat can sprint at about thirty-one miles per hour.\"]}\n",
      "Python Dict: {'data': ['A cat can sprint at about thirty-one miles per hour.']}\n",
      "Back to JSON String:\n",
      " {\n",
      "  \"data\": [\n",
      "    \"A cat can sprint at about thirty-one miles per hour.\"\n",
      "  ]\n",
      "}\n"
     ]
    }
   ],
   "source": [
    "import json\n",
    "import requests\n",
    "\n",
    "# Getting a cat fact\n",
    "response = requests.get(\"https://meowfacts.herokuapp.com/\")\n",
    "cat_fact_json = response.text\n",
    "print(\"JSON String:\", cat_fact_json)\n",
    "\n",
    "# Convert JSON to Python dict\n",
    "cat_fact_dict = json.loads(cat_fact_json)\n",
    "print(\"Python Dict:\", cat_fact_dict)\n",
    "\n",
    "# Convert back from Python dict to JSON string\n",
    "cat_fact_json_again = json.dumps(cat_fact_dict, indent=2)\n",
    "print(\"Back to JSON String:\\n\", cat_fact_json_again)"
   ]
  },
  {
   "cell_type": "markdown",
   "id": "d6d7f1b2-fc3f-48e9-8b82-ea138140ab8d",
   "metadata": {},
   "source": [
    "# 4. Create a Nested Python Dictionary"
   ]
  },
  {
   "cell_type": "code",
   "execution_count": 5,
   "id": "c9ccc16c-45d3-4374-b0b0-27f64c904ffe",
   "metadata": {},
   "outputs": [
    {
     "name": "stdout",
     "output_type": "stream",
     "text": [
      "Chemistry Marks: 88\n",
      "Student JSON:\n",
      " {\n",
      "  \"name\": \"Amina\",\n",
      "  \"age\": 16,\n",
      "  \"address\": {\n",
      "    \"city\": \"Lahore\",\n",
      "    \"zipcode\": \"54000\"\n",
      "  },\n",
      "  \"marks\": {\n",
      "    \"math\": 90,\n",
      "    \"science\": {\n",
      "      \"physics\": 85,\n",
      "      \"chemistry\": 88\n",
      "    }\n",
      "  }\n",
      "}\n",
      "Deserialized Python Dict: {'name': 'Amina', 'age': 16, 'address': {'city': 'Lahore', 'zipcode': '54000'}, 'marks': {'math': 90, 'science': {'physics': 85, 'chemistry': 88}}}\n"
     ]
    }
   ],
   "source": [
    "# Nested Python dictionary\n",
    "student = {\n",
    "    \"name\": \"Amina\",\n",
    "    \"age\": 16,\n",
    "    \"address\": {\n",
    "        \"city\": \"Lahore\",\n",
    "        \"zipcode\": \"54000\"\n",
    "    },\n",
    "    \"marks\": {\n",
    "        \"math\": 90,\n",
    "        \"science\": {\n",
    "            \"physics\": 85,\n",
    "            \"chemistry\": 88\n",
    "        }\n",
    "    }\n",
    "}\n",
    "\n",
    "# Access a deeply nested value (e.g., Chemistry marks)\n",
    "chemistry_marks = student[\"marks\"][\"science\"][\"chemistry\"]\n",
    "print(\"Chemistry Marks:\", chemistry_marks)\n",
    "\n",
    "# Serialize to JSON\n",
    "student_json = json.dumps(student, indent=2)\n",
    "print(\"Student JSON:\\n\", student_json)\n",
    "\n",
    "# Deserialize back to Python dict\n",
    "student_dict = json.loads(student_json)\n",
    "print(\"Deserialized Python Dict:\", student_dict)\n"
   ]
  },
  {
   "cell_type": "code",
   "execution_count": null,
   "id": "7d645a9c-a57b-42c2-af1a-e8253e28ab7a",
   "metadata": {},
   "outputs": [],
   "source": []
  }
 ],
 "metadata": {
  "kernelspec": {
   "display_name": "Python 3 (ipykernel)",
   "language": "python",
   "name": "python3"
  },
  "language_info": {
   "codemirror_mode": {
    "name": "ipython",
    "version": 3
   },
   "file_extension": ".py",
   "mimetype": "text/x-python",
   "name": "python",
   "nbconvert_exporter": "python",
   "pygments_lexer": "ipython3",
   "version": "3.11.7"
  }
 },
 "nbformat": 4,
 "nbformat_minor": 5
}
