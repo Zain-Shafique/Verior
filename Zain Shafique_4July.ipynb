{
 "cells": [
  {
   "cell_type": "markdown",
   "id": "7d1d01f0-01ed-43eb-874c-a9862e5d106f",
   "metadata": {},
   "source": [
    "## Sample API Response (OpenWeatherMap Format)"
   ]
  },
  {
   "cell_type": "code",
   "execution_count": 1,
   "id": "4b87881e-8275-4135-9482-6c5696a43c30",
   "metadata": {},
   "outputs": [
    {
     "name": "stdout",
     "output_type": "stream",
     "text": [
      "{'latitude': 35.0, 'longitude': 139.0, 'generationtime_ms': 0.04601478576660156, 'utc_offset_seconds': 0, 'timezone': 'GMT', 'timezone_abbreviation': 'GMT', 'elevation': 234.0, 'current_weather_units': {'time': 'iso8601', 'interval': 'seconds', 'temperature': '°C', 'windspeed': 'km/h', 'winddirection': '°', 'is_day': '', 'weathercode': 'wmo code'}, 'current_weather': {'time': '2025-07-04T16:30', 'interval': 900, 'temperature': 24.0, 'windspeed': 4.8, 'winddirection': 297, 'is_day': 0, 'weathercode': 1}}\n"
     ]
    }
   ],
   "source": [
    "import requests\n",
    "response = requests.get(\n",
    "  \"https://api.open-meteo.com/v1/forecast?latitude=35&longitude=139&current_weather=true\"\n",
    ")\n",
    "print(response.json())"
   ]
  },
  {
   "cell_type": "markdown",
   "id": "1b24a2a1-62b5-4035-83b2-0e4f962d1846",
   "metadata": {},
   "source": [
    "## Safe Extraction with .get()"
   ]
  },
  {
   "cell_type": "code",
   "execution_count": 3,
   "id": "774a3ab0-500a-49ba-9339-0070dc6ca78f",
   "metadata": {},
   "outputs": [
    {
     "name": "stdout",
     "output_type": "stream",
     "text": [
      "Temperature: 24.0 °C\n",
      "Weather Headline: Mainly clear\n"
     ]
    }
   ],
   "source": [
    "import requests\n",
    "\n",
    "# Fetch data from API\n",
    "response = requests.get(\"https://api.open-meteo.com/v1/forecast?latitude=35&longitude=139&current_weather=true\")\n",
    "data = response.json()\n",
    "\n",
    "# Safely extract data using .get() with proper nested structure\n",
    "current_weather = data.get(\"current_weather\", {})\n",
    "temperature = current_weather.get(\"temperature\", \"N/A\")\n",
    "weathercode = current_weather.get(\"weathercode\", \"N/A\")\n",
    "\n",
    "# Map weathercode to human-readable description\n",
    "weather_mapping = {\n",
    "    0: \"Clear sky\",\n",
    "    1: \"Mainly clear\",\n",
    "    2: \"Partly cloudy\",\n",
    "    3: \"Overcast\",\n",
    "    45: \"Fog\",\n",
    "    48: \"Depositing rime fog\",\n",
    "    51: \"Light drizzle\",\n",
    "    56: \"Light freezing drizzle\",\n",
    "    61: \"Light rain\",\n",
    "    66: \"Light freezing rain\",\n",
    "    80: \"Light rain showers\",\n",
    "    95: \"Thunderstorm\",\n",
    "}\n",
    "\n",
    "weather_headline = weather_mapping.get(weathercode, f\"Unknown weather code: {weathercode}\")\n",
    "\n",
    "print(f\"Temperature: {temperature} °C\")\n",
    "print(f\"Weather Headline: {weather_headline}\")"
   ]
  },
  {
   "cell_type": "code",
   "execution_count": null,
   "id": "7fdc2da2-0897-4eb8-b72a-4abc78c4a01e",
   "metadata": {},
   "outputs": [],
   "source": []
  }
 ],
 "metadata": {
  "kernelspec": {
   "display_name": "Python 3 (ipykernel)",
   "language": "python",
   "name": "python3"
  },
  "language_info": {
   "codemirror_mode": {
    "name": "ipython",
    "version": 3
   },
   "file_extension": ".py",
   "mimetype": "text/x-python",
   "name": "python",
   "nbconvert_exporter": "python",
   "pygments_lexer": "ipython3",
   "version": "3.11.7"
  }
 },
 "nbformat": 4,
 "nbformat_minor": 5
}
