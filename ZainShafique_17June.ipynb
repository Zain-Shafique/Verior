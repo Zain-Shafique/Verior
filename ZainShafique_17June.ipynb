{
 "cells": [
  {
   "cell_type": "markdown",
   "id": "97eb8a45-d5a4-45f6-91b9-0edf0aeecfca",
   "metadata": {},
   "source": [
    "# Task 1: Prompt Engineering\n",
    "### Open ChatGPT or Gemini. Test 3 different prompt styles to get a summary of the same topic : One vague prompt, One detailed prompt, One step-by-step instruction prompt, Compare each version gives the most useful response."
   ]
  },
  {
   "cell_type": "markdown",
   "id": "7ab43dfb-036d-4074-a848-d982e3c17553",
   "metadata": {},
   "source": [
    "#### 1. Vague Prompt:"
   ]
  },
  {
   "cell_type": "markdown",
   "id": "e18d3aae-6601-4027-b53d-755828f90869",
   "metadata": {},
   "source": [
    "#### Prompt: \"Tell me about AI in healthcare.\"\n",
    "\n",
    "#### Response Summary:\n",
    "\n",
    "##### - Provided a comprehensive, detailed overview.\n",
    "\n",
    "##### - Covered 7+ applications, technical methods (NLP, ML, DL), benefits, challenges, real-world examples, and future trends.\n",
    "\n",
    "##### - Rich in content, suitable for researchers, professionals, or reports.\n",
    "\n",
    "#### Pros:\n",
    "\n",
    "##### - Deep and informative\n",
    "\n",
    "##### - Covers a wide spectrum\n",
    "\n",
    "##### - Real-world examples included\n",
    "\n",
    "#### Cons:\n",
    "\n",
    "##### - May be too long or dense for casual readers or presentation slides\n",
    "\n",
    "#### Best For: In-depth understanding, academic reports, or detailed articles."
   ]
  },
  {
   "cell_type": "markdown",
   "id": "0b92ef99-b520-44bf-8f44-728d42c123a7",
   "metadata": {},
   "source": [
    "### 2. Detailed Prompt:"
   ]
  },
  {
   "cell_type": "markdown",
   "id": "445b8ce0-2ed6-4af8-8fc7-bb99a87de596",
   "metadata": {},
   "source": [
    "#### Prompt: \"Summarize the impact of AI on healthcare, covering: key applications (diagnosis, drug discovery, patient monitoring), benefits (efficiency, accuracy), challenges (data privacy, bias), and future trends. Include 2 real-world examples.\"\n",
    "\n",
    "#### Response Summary:\n",
    "\n",
    "##### - Condensed version of Prompt 1, well-organized by categories.\n",
    "\n",
    "##### - Focused on 3 key areas with 2 benefits, 2 challenges, and 2 real-world examples.\n",
    "\n",
    "##### - Clear and readable with bullet points.\n",
    "\n",
    "#### Pros:\n",
    "\n",
    "##### - Balanced depth and brevity\n",
    "\n",
    "##### - Structured for easy scanning\n",
    "\n",
    "##### - Suitable for a presentation, report summary, or executive brief\n",
    "\n",
    "#### Cons:\n",
    "\n",
    "##### - Slightly less detailed in technological methods\n",
    "\n",
    "#### Best For: Slide decks, business proposals, executive summaries."
   ]
  },
  {
   "cell_type": "markdown",
   "id": "9239d2ae-4db5-4782-b41c-b9781967a863",
   "metadata": {},
   "source": [
    "### 3. Step-by-Step Prompt:"
   ]
  },
  {
   "cell_type": "markdown",
   "id": "9e6864e6-1832-4dfa-a7b0-a2a6c09314d1",
   "metadata": {},
   "source": [
    "#### Prompt: \"\n",
    "#### Step 1: Define AI's role in healthcare.  \r",
    "#### Step 2: List 3 key applications with brief explanations.  \n",
    "#### Step 3: Explain 2 major benefits and 2 challenges.\n",
    "#### Step 4: Provide one real-world case study.\n",
    "#### Step 5: Predict one future trend\"\n",
    "\n",
    "#### Response Summary:\n",
    "\n",
    "##### - Clean, step-by-step format.\n",
    "\n",
    "##### - Focused and to-the-point.\n",
    "\n",
    "##### - Included 1 case study, 3 applications, 2 benefits, 2 challenges, and 1 trend.\n",
    "\n",
    "#### Pros:\n",
    "\n",
    "##### - Extremely clear and digestible\n",
    "\n",
    "##### - Great for beginner audiences or structured note-taking\n",
    "\n",
    "##### - Ideal for educational or interview prep\n",
    "\n",
    "#### Cons:\n",
    "\n",
    "##### - Most concise—less depth than previous versions\n",
    "\n",
    "##### - Only one example and limited elaboration\n",
    "\n",
    "#### Best For: Teaching, beginners, quick learning, or slide scripts.  "
   ]
  },
  {
   "cell_type": "markdown",
   "id": "baa61bbf-e1d5-4b16-8d93-3f710d96e988",
   "metadata": {},
   "source": [
    "# Task 2: Write a Python program that reads a text file and summarizes its content using functions and file handling concepts.\n",
    "### Take a File Input, Use functions to count total lines, count total words, to count frequency of each word "
   ]
  },
  {
   "cell_type": "code",
   "execution_count": 1,
   "id": "2afd6461-65af-434f-a40b-508c13d83ddf",
   "metadata": {},
   "outputs": [
    {
     "name": "stdin",
     "output_type": "stream",
     "text": [
      "Enter file path:  C:\\Users\\Zain\\Documents\\Verior\\Info.txt\n"
     ]
    },
    {
     "name": "stdout",
     "output_type": "stream",
     "text": [
      "\n",
      "Summary for 'C:\\Users\\Zain\\Documents\\Verior\\Info.txt':\n",
      "1. Total lines: 48\n",
      "2. Total words: 155\n",
      "3. Top 10 frequent words:\n",
      "   - and: 13x\n",
      "   - to: 5x\n",
      "   - traditional: 4x\n",
      "   - punjab: 3x\n",
      "   - cultural: 3x\n",
      "   - of: 3x\n",
      "   - festival: 3x\n",
      "   - for: 2x\n",
      "   - punjabi: 2x\n",
      "   - folk: 2x\n"
     ]
    }
   ],
   "source": [
    "import string\n",
    "\n",
    "def count_lines(file_path):\n",
    "    \"\"\"Count total lines in the file.\"\"\"\n",
    "    with open(file_path, 'r') as file:\n",
    "        return sum(1 for _ in file)\n",
    "\n",
    "def clean_word(word):\n",
    "    \"\"\"Remove punctuation/numbers and convert to lowercase.\"\"\"\n",
    "    return word.strip(string.punctuation + string.digits).lower()\n",
    "\n",
    "def count_words(file_path):\n",
    "    \"\"\"Count total cleaned words (no punctuation/numbers, case-insensitive).\"\"\"\n",
    "    with open(file_path, 'r') as file:\n",
    "        text = file.read()\n",
    "    words = [clean_word(word) for word in text.split()]\n",
    "    return len([word for word in words if word])  # Skip empty strings\n",
    "\n",
    "def word_frequency(file_path):\n",
    "    \"\"\"Count frequency of each cleaned word.\"\"\"\n",
    "    freq = {}\n",
    "    with open(file_path, 'r') as file:\n",
    "        text = file.read()\n",
    "    words = [clean_word(word) for word in text.split()]\n",
    "    for word in words:\n",
    "        if word:  # Ignore empty strings\n",
    "            freq[word] = freq.get(word, 0) + 1\n",
    "    return freq\n",
    "\n",
    "def main():\n",
    "    file_path = input(\"Enter file path: \")\n",
    "    try:\n",
    "        lines = count_lines(file_path)\n",
    "        words = count_words(file_path)\n",
    "        freq = word_frequency(file_path)\n",
    "        \n",
    "        print(f\"\\nSummary for '{file_path}':\")\n",
    "        print(f\"1. Total lines: {lines}\")\n",
    "        print(f\"2. Total words: {words}\")\n",
    "        print(\"3. Top 10 frequent words:\")\n",
    "        for word, count in sorted(freq.items(), key=lambda x: x[1], reverse=True)[:10]:\n",
    "            print(f\"   - {word}: {count}x\")\n",
    "    \n",
    "    except FileNotFoundError:\n",
    "        print(\"Error: File not found. Check the path.\")\n",
    "\n",
    "if __name__ == \"__main__\":\n",
    "    main()"
   ]
  },
  {
   "cell_type": "code",
   "execution_count": null,
   "id": "44e9bb49-976f-4ac9-8c39-d81da97252e2",
   "metadata": {},
   "outputs": [],
   "source": []
  }
 ],
 "metadata": {
  "kernelspec": {
   "display_name": "Python 3 (ipykernel)",
   "language": "python",
   "name": "python3"
  },
  "language_info": {
   "codemirror_mode": {
    "name": "ipython",
    "version": 3
   },
   "file_extension": ".py",
   "mimetype": "text/x-python",
   "name": "python",
   "nbconvert_exporter": "python",
   "pygments_lexer": "ipython3",
   "version": "3.11.7"
  }
 },
 "nbformat": 4,
 "nbformat_minor": 5
}
