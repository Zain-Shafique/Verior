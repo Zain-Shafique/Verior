{
 "cells": [
  {
   "cell_type": "code",
   "execution_count": 2,
   "id": "5e1fda4c-393d-41aa-85c2-53d35d44b064",
   "metadata": {},
   "outputs": [
    {
     "name": "stdout",
     "output_type": "stream",
     "text": [
      "Requirement already satisfied: langchain in c:\\users\\zain\\anaconda3\\lib\\site-packages (0.0.340)\n",
      "Requirement already satisfied: cohere in c:\\users\\zain\\anaconda3\\lib\\site-packages (4.32)\n",
      "Requirement already satisfied: numexpr in c:\\users\\zain\\anaconda3\\lib\\site-packages (2.8.7)\n",
      "Requirement already satisfied: PyYAML>=5.3 in c:\\users\\zain\\anaconda3\\lib\\site-packages (from langchain) (6.0.1)\n",
      "Requirement already satisfied: SQLAlchemy<3,>=1.4 in c:\\users\\zain\\anaconda3\\lib\\site-packages (from langchain) (2.0.25)\n",
      "Requirement already satisfied: aiohttp<4.0.0,>=3.8.3 in c:\\users\\zain\\anaconda3\\lib\\site-packages (from langchain) (3.9.3)\n",
      "Requirement already satisfied: anyio<4.0 in c:\\users\\zain\\anaconda3\\lib\\site-packages (from langchain) (3.7.1)\n",
      "Requirement already satisfied: dataclasses-json<0.7,>=0.5.7 in c:\\users\\zain\\anaconda3\\lib\\site-packages (from langchain) (0.6.7)\n",
      "Requirement already satisfied: jsonpatch<2.0,>=1.33 in c:\\users\\zain\\anaconda3\\lib\\site-packages (from langchain) (1.33)\n",
      "Requirement already satisfied: langsmith<0.1.0,>=0.0.63 in c:\\users\\zain\\anaconda3\\lib\\site-packages (from langchain) (0.0.87)\n",
      "Requirement already satisfied: numpy<2,>=1 in c:\\users\\zain\\anaconda3\\lib\\site-packages (from langchain) (1.25.2)\n",
      "Requirement already satisfied: pydantic<3,>=1 in c:\\users\\zain\\anaconda3\\lib\\site-packages (from langchain) (2.9.1)\n",
      "Requirement already satisfied: requests<3,>=2 in c:\\users\\zain\\anaconda3\\lib\\site-packages (from langchain) (2.31.0)\n",
      "Requirement already satisfied: tenacity<9.0.0,>=8.1.0 in c:\\users\\zain\\anaconda3\\lib\\site-packages (from langchain) (8.5.0)\n",
      "Requirement already satisfied: backoff<3.0,>=2.0 in c:\\users\\zain\\anaconda3\\lib\\site-packages (from cohere) (2.2.1)\n",
      "Requirement already satisfied: fastavro==1.8.2 in c:\\users\\zain\\anaconda3\\lib\\site-packages (from cohere) (1.8.2)\n",
      "Requirement already satisfied: importlib_metadata<7.0,>=6.0 in c:\\users\\zain\\anaconda3\\lib\\site-packages (from cohere) (6.11.0)\n",
      "Requirement already satisfied: urllib3<3,>=1.26 in c:\\users\\zain\\anaconda3\\lib\\site-packages (from cohere) (2.2.3)\n",
      "Requirement already satisfied: aiosignal>=1.1.2 in c:\\users\\zain\\anaconda3\\lib\\site-packages (from aiohttp<4.0.0,>=3.8.3->langchain) (1.2.0)\n",
      "Requirement already satisfied: attrs>=17.3.0 in c:\\users\\zain\\anaconda3\\lib\\site-packages (from aiohttp<4.0.0,>=3.8.3->langchain) (23.2.0)\n",
      "Requirement already satisfied: frozenlist>=1.1.1 in c:\\users\\zain\\anaconda3\\lib\\site-packages (from aiohttp<4.0.0,>=3.8.3->langchain) (1.4.0)\n",
      "Requirement already satisfied: multidict<7.0,>=4.5 in c:\\users\\zain\\anaconda3\\lib\\site-packages (from aiohttp<4.0.0,>=3.8.3->langchain) (6.0.4)\n",
      "Requirement already satisfied: yarl<2.0,>=1.0 in c:\\users\\zain\\anaconda3\\lib\\site-packages (from aiohttp<4.0.0,>=3.8.3->langchain) (1.9.3)\n",
      "Requirement already satisfied: idna>=2.8 in c:\\users\\zain\\anaconda3\\lib\\site-packages (from anyio<4.0->langchain) (3.4)\n",
      "Requirement already satisfied: sniffio>=1.1 in c:\\users\\zain\\anaconda3\\lib\\site-packages (from anyio<4.0->langchain) (1.3.0)\n",
      "Requirement already satisfied: marshmallow<4.0.0,>=3.18.0 in c:\\users\\zain\\anaconda3\\lib\\site-packages (from dataclasses-json<0.7,>=0.5.7->langchain) (3.22.0)\n",
      "Requirement already satisfied: typing-inspect<1,>=0.4.0 in c:\\users\\zain\\anaconda3\\lib\\site-packages (from dataclasses-json<0.7,>=0.5.7->langchain) (0.9.0)\n",
      "Requirement already satisfied: zipp>=0.5 in c:\\users\\zain\\anaconda3\\lib\\site-packages (from importlib_metadata<7.0,>=6.0->cohere) (3.17.0)\n",
      "Requirement already satisfied: jsonpointer>=1.9 in c:\\users\\zain\\anaconda3\\lib\\site-packages (from jsonpatch<2.0,>=1.33->langchain) (2.1)\n",
      "Requirement already satisfied: annotated-types>=0.6.0 in c:\\users\\zain\\anaconda3\\lib\\site-packages (from pydantic<3,>=1->langchain) (0.7.0)\n",
      "Requirement already satisfied: pydantic-core==2.23.3 in c:\\users\\zain\\anaconda3\\lib\\site-packages (from pydantic<3,>=1->langchain) (2.23.3)\n",
      "Requirement already satisfied: typing-extensions>=4.6.1 in c:\\users\\zain\\anaconda3\\lib\\site-packages (from pydantic<3,>=1->langchain) (4.14.0)\n",
      "Requirement already satisfied: charset-normalizer<4,>=2 in c:\\users\\zain\\anaconda3\\lib\\site-packages (from requests<3,>=2->langchain) (2.0.4)\n",
      "Requirement already satisfied: certifi>=2017.4.17 in c:\\users\\zain\\anaconda3\\lib\\site-packages (from requests<3,>=2->langchain) (2024.6.2)\n",
      "Requirement already satisfied: greenlet!=0.4.17 in c:\\users\\zain\\anaconda3\\lib\\site-packages (from SQLAlchemy<3,>=1.4->langchain) (3.0.1)\n",
      "Requirement already satisfied: packaging>=17.0 in c:\\users\\zain\\anaconda3\\lib\\site-packages (from marshmallow<4.0.0,>=3.18.0->dataclasses-json<0.7,>=0.5.7->langchain) (23.2)\n",
      "Requirement already satisfied: mypy-extensions>=0.3.0 in c:\\users\\zain\\anaconda3\\lib\\site-packages (from typing-inspect<1,>=0.4.0->dataclasses-json<0.7,>=0.5.7->langchain) (1.0.0)\n"
     ]
    }
   ],
   "source": [
    "# Install dependencies first: \n",
    "!pip install langchain cohere numexpr"
   ]
  },
  {
   "cell_type": "code",
   "execution_count": 6,
   "id": "dd2eca41-b33b-4ee4-a736-e3599815f6de",
   "metadata": {},
   "outputs": [
    {
     "name": "stdout",
     "output_type": "stream",
     "text": [
      "🧠 USER QUERY: \n",
      "First calculate 18% of 250, \n",
      "then subtract 15 from that result, \n",
      "and finally add 100 to the total.\n",
      "\n",
      "\n",
      "\n",
      "\u001b[1m> Entering new AgentExecutor chain...\u001b[0m\n"
     ]
    },
    {
     "name": "stderr",
     "output_type": "stream",
     "text": [
      "unknown field: parameter 'model' is not a valid field\n"
     ]
    },
    {
     "name": "stdout",
     "output_type": "stream",
     "text": [
      "\u001b[32;1m\u001b[1;3m This seems like a fairly straightforward math problem. I will use the MathCalculator tool to compute each step sequentially.\n",
      "\n",
      "Action: MathCalculator\n",
      "Action Input: 250 * 0.18\u001b[0m\n",
      "Observation: \u001b[36;1m\u001b[1;3m45.0\u001b[0m\n",
      "Thought:"
     ]
    },
    {
     "name": "stderr",
     "output_type": "stream",
     "text": [
      "unknown field: parameter 'model' is not a valid field\n"
     ]
    },
    {
     "name": "stdout",
     "output_type": "stream",
     "text": [
      "\u001b[32;1m\u001b[1;3m Thought: Great, I now have the first intermediate result, which is 45. I will proceed with the next step.\n",
      "Action: MathCalculator\n",
      "Action Input: 45 - 15\u001b[0m\n",
      "Observation: \u001b[36;1m\u001b[1;3m30\u001b[0m\n",
      "Thought:"
     ]
    },
    {
     "name": "stderr",
     "output_type": "stream",
     "text": [
      "unknown field: parameter 'model' is not a valid field\n"
     ]
    },
    {
     "name": "stdout",
     "output_type": "stream",
     "text": [
      "\u001b[32;1m\u001b[1;3m Thought: Okay, I have computed the second intermediate result, which is 30. I need to add 100 to this result now.\n",
      "Action: MathCalculator\n",
      "Action Input: 30 + 100\u001b[0m\n",
      "Observation: \u001b[36;1m\u001b[1;3m130\u001b[0m\n",
      "Thought:"
     ]
    },
    {
     "name": "stderr",
     "output_type": "stream",
     "text": [
      "unknown field: parameter 'model' is not a valid field\n"
     ]
    },
    {
     "name": "stdout",
     "output_type": "stream",
     "text": [
      "\u001b[32;1m\u001b[1;3m Thought: I believe the final answer is 130, based on the steps and calculations performed using the MathCalculator tool.\n",
      "Final Answer: 130\u001b[0m\n",
      "\n",
      "\u001b[1m> Finished chain.\u001b[0m\n",
      "\n",
      "🌟 FINAL RESULT: 130\n"
     ]
    }
   ],
   "source": [
    "# LangChain Agent with Cohere API - Fixed & Tested\n",
    "# !pip install langchain cohere numexpr\n",
    "\n",
    "import os\n",
    "from langchain.agents import AgentType, initialize_agent, Tool\n",
    "from langchain.llms import Cohere\n",
    "import re\n",
    "import numexpr\n",
    "\n",
    "# ========================\n",
    "# SETUP & INITIALIZATION\n",
    "# ========================\n",
    "os.environ[\"COHERE_API_KEY\"] = \"your_api_key\"  # Replace with your key\n",
    "\n",
    "# Initialize Cohere LLM - optimized for math reasoning\n",
    "llm = Cohere(\n",
    "    model=\"command\",  # Use base command model\n",
    "    temperature=0.0,  # Zero temperature for deterministic math\n",
    "    max_tokens=150\n",
    ")\n",
    "\n",
    "# ========================\n",
    "# CUSTOM MATH TOOL (FIXED)\n",
    "# ========================\n",
    "def safe_math_evaluator(expression: str) -> str:\n",
    "    \"\"\"Safely evaluates mathematical expressions with Cohere-specific fixes\"\"\"\n",
    "    # Clean and convert expression\n",
    "    expression = expression.strip()\n",
    "    expression = expression.replace(' of ', ' * ').replace('percent', '*0.01')\n",
    "    expression = re.sub(r'[^0-9\\.\\+\\-\\*\\/\\(\\) ]', '', expression)\n",
    "    \n",
    "    try:\n",
    "        result = numexpr.evaluate(expression)\n",
    "        return f\"{result}\"\n",
    "    except Exception as e:\n",
    "        return f\"Error: {str(e)}\"\n",
    "\n",
    "# Create tool with EXACT name the agent should use\n",
    "math_tool = Tool(\n",
    "    name=\"MathCalculator\",  # MUST match what agent calls\n",
    "    func=safe_math_evaluator,\n",
    "    description=(\n",
    "        \"Use ONLY for math calculations. Input MUST be a pure numerical expression. \"\n",
    "        \"Examples: '250 * 0.18', '45 - 15'. NEVER include words in the input.\"\n",
    "    )\n",
    ")\n",
    "\n",
    "tools = [math_tool]\n",
    "\n",
    "# ========================\n",
    "# AGENT CREATION (FIXED)\n",
    "# ========================\n",
    "agent = initialize_agent(\n",
    "    tools,\n",
    "    llm,\n",
    "    agent=AgentType.ZERO_SHOT_REACT_DESCRIPTION,\n",
    "    verbose=True,\n",
    "    handle_parsing_errors=True,\n",
    "    max_iterations=3,\n",
    "    early_stopping_method=\"generate\"\n",
    ")\n",
    "\n",
    "# ========================\n",
    "# EXECUTION & OUTPUT\n",
    "# ========================\n",
    "query = \"\"\"\n",
    "First calculate 18% of 250, \n",
    "then subtract 15 from that result, \n",
    "and finally add 100 to the total.\n",
    "\"\"\"\n",
    "\n",
    "print(\"🧠 USER QUERY:\", query)\n",
    "response = agent.run(\n",
    "    \"Calculate step-by-step: \" + query + \" Use ONLY MathCalculator for computations.\"\n",
    ")\n",
    "print(f\"\\n🌟 FINAL RESULT: {response}\")"
   ]
  },
  {
   "cell_type": "markdown",
   "id": "4c3d9740-d873-4375-ad71-5a84d91a5b26",
   "metadata": {},
   "source": [
    "# What's Happening Behind the Scenes\n",
    "\n",
    "## 1. Input Handling\n",
    "- Your natural language query is received  \n",
    "- Cohere LLM parses it into executable steps:  \n",
    "  → Calculate 18% of 250  \n",
    "  → Subtract 15 from result  \n",
    "  → Add 100 to new result  \n",
    "\n",
    "## 2. Reasoning Process\n",
    "- Uses chain-of-thought prompting to break down the problem  \n",
    "- Delegates each calculation to the MathCalculator tool  \n",
    "- Maintains context between steps (output from step 1 becomes input for step 2)  \n",
    "\n",
    "## 3. Tool Execution\n",
    "- Converts natural language to math operations:  \n",
    "  \"18% of 250\" → `250 * 0.18`  \n",
    "- Executes calculations safely using `numexpr`  \n",
    "- Returns precise numerical results:  \n",
    "  `45.0 → 30.0 → 130.0`  \n",
    "\n",
    "## 4. Response Generation\n",
    "- Combines tool outputs with natural language  \n",
    "- Formats final explanation:  \n",
    "  \"18% of 250 (45), subtract 15 (30), add 100 = 130\"  \n",
    "\n",
    "---\n",
    "\n",
    "# Simplified Execution Flow\n",
    "\n",
    "```mermaid\n",
    "graph LR\n",
    "    A[User Query] --> B[Cohere: Plan Steps]\n",
    "    B --> C[Math Tool: Calculate]\n",
    "    C --> D[Cohere: Explain]\n",
    "    D --> E[Final Answer]results."
   ]
  },
  {
   "cell_type": "code",
   "execution_count": null,
   "id": "040e9094-ad42-44ae-931e-e84d27799d39",
   "metadata": {},
   "outputs": [],
   "source": []
  }
 ],
 "metadata": {
  "kernelspec": {
   "display_name": "Python 3 (ipykernel)",
   "language": "python",
   "name": "python3"
  },
  "language_info": {
   "codemirror_mode": {
    "name": "ipython",
    "version": 3
   },
   "file_extension": ".py",
   "mimetype": "text/x-python",
   "name": "python",
   "nbconvert_exporter": "python",
   "pygments_lexer": "ipython3",
   "version": "3.11.7"
  }
 },
 "nbformat": 4,
 "nbformat_minor": 5
}
