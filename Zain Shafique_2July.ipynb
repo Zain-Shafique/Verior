{
 "cells": [
  {
   "cell_type": "code",
   "execution_count": 1,
   "id": "7c01e26a-b8f9-4523-8b37-5b35e9a7f335",
   "metadata": {},
   "outputs": [
    {
     "name": "stdout",
     "output_type": "stream",
     "text": [
      "Requirement already satisfied: requests in c:\\users\\zain\\anaconda3\\lib\\site-packages (2.31.0)\n",
      "Requirement already satisfied: textblob in c:\\users\\zain\\anaconda3\\lib\\site-packages (0.19.0)\n",
      "Requirement already satisfied: charset-normalizer<4,>=2 in c:\\users\\zain\\anaconda3\\lib\\site-packages (from requests) (2.0.4)\n",
      "Requirement already satisfied: idna<4,>=2.5 in c:\\users\\zain\\anaconda3\\lib\\site-packages (from requests) (3.4)\n",
      "Requirement already satisfied: urllib3<3,>=1.21.1 in c:\\users\\zain\\anaconda3\\lib\\site-packages (from requests) (2.2.3)\n",
      "Requirement already satisfied: certifi>=2017.4.17 in c:\\users\\zain\\anaconda3\\lib\\site-packages (from requests) (2024.6.2)\n",
      "Requirement already satisfied: nltk>=3.9 in c:\\users\\zain\\anaconda3\\lib\\site-packages (from textblob) (3.9.1)\n",
      "Requirement already satisfied: click in c:\\users\\zain\\anaconda3\\lib\\site-packages (from nltk>=3.9->textblob) (8.1.7)\n",
      "Requirement already satisfied: joblib in c:\\users\\zain\\anaconda3\\lib\\site-packages (from nltk>=3.9->textblob) (1.4.2)\n",
      "Requirement already satisfied: regex>=2021.8.3 in c:\\users\\zain\\anaconda3\\lib\\site-packages (from nltk>=3.9->textblob) (2023.10.3)\n",
      "Requirement already satisfied: tqdm in c:\\users\\zain\\anaconda3\\lib\\site-packages (from nltk>=3.9->textblob) (4.65.0)\n",
      "Requirement already satisfied: colorama in c:\\users\\zain\\anaconda3\\lib\\site-packages (from click->nltk>=3.9->textblob) (0.4.6)\n"
     ]
    }
   ],
   "source": [
    "!pip install requests textblob"
   ]
  },
  {
   "cell_type": "code",
   "execution_count": 2,
   "id": "07c69f0f-220d-49fd-9f8b-57c283db2095",
   "metadata": {},
   "outputs": [],
   "source": [
    "import requests\n",
    "from textblob import TextBlob"
   ]
  },
  {
   "cell_type": "code",
   "execution_count": 15,
   "id": "28f90d2c-41c3-42c6-9af5-1426664afa6a",
   "metadata": {},
   "outputs": [],
   "source": [
    "# Fetch a random joke from the API\n",
    "def fetch_joke():\n",
    "    api_url = \"https://official-joke-api.appspot.com/jokes/random\"\n",
    "    try:\n",
    "        response = requests.get(api_url, timeout=5)\n",
    "        response.raise_for_status()  # Raise error for bad HTTP status\n",
    "        joke_data = response.json()\n",
    "        joke_text = f\"{joke_data['setup']} {joke_data['punchline']}\"\n",
    "        return joke_text\n",
    "    except requests.exceptions.RequestException as e:\n",
    "        print(f\"Error fetching joke: {e}\")\n",
    "        return None"
   ]
  },
  {
   "cell_type": "code",
   "execution_count": 16,
   "id": "d92922d7-e61d-41cf-9eca-bab1b10f930e",
   "metadata": {},
   "outputs": [],
   "source": [
    "# Analyze sentiment using TextBlob\n",
    "def analyze_sentiment(text):\n",
    "    blob = TextBlob(text)\n",
    "    polarity = blob.sentiment.polarity\n",
    "    subjectivity = blob.sentiment.subjectivity\n",
    "    return polarity, subjectivity"
   ]
  },
  {
   "cell_type": "code",
   "execution_count": 17,
   "id": "716be3c0-afc0-419f-8e67-8d0797a22a3d",
   "metadata": {},
   "outputs": [
    {
     "name": "stdout",
     "output_type": "stream",
     "text": [
      "\n",
      "Joke Received:\n",
      "\"What did the ocean say to the beach? Thanks for all the sediment.\"\n",
      "\n",
      "Sentiment Analysis Results:\n",
      "Polarity: 0.20 (Range: -1.0 to 1.0)\n",
      "Subjectivity: 0.20 (Range: 0.0 to 1.0)\n",
      "\n",
      "Interpretation: The joke is positive and 20.00% subjective.\n"
     ]
    }
   ],
   "source": [
    "# Main execution\n",
    "if __name__ == \"__main__\":\n",
    "    joke = fetch_joke()\n",
    "    if joke:\n",
    "        print(\"\\nJoke Received:\")\n",
    "        print('\"' + joke + '\"')\n",
    "        \n",
    "        polarity, subjectivity = analyze_sentiment(joke)\n",
    "        \n",
    "        print(\"\\nSentiment Analysis Results:\")\n",
    "        print(f\"Polarity: {polarity:.2f} (Range: -1.0 to 1.0)\")\n",
    "        print(f\"Subjectivity: {subjectivity:.2f} (Range: 0.0 to 1.0)\")\n",
    "        \n",
    "        # Simple interpretation\n",
    "        if polarity > 0:\n",
    "            sentiment = \"positive\"\n",
    "        elif polarity < 0:\n",
    "            sentiment = \"negative\"\n",
    "        else:\n",
    "            sentiment = \"neutral\"\n",
    "            \n",
    "        print(f\"\\nInterpretation: The joke is {sentiment} and {subjectivity:.2%} subjective.\")\n",
    "    else:\n",
    "        print(\"Failed to retrieve joke. Please try again later.\")"
   ]
  },
  {
   "cell_type": "code",
   "execution_count": null,
   "id": "b533a904-11f2-4974-a430-3e3e9da641af",
   "metadata": {},
   "outputs": [],
   "source": []
  }
 ],
 "metadata": {
  "kernelspec": {
   "display_name": "Python 3 (ipykernel)",
   "language": "python",
   "name": "python3"
  },
  "language_info": {
   "codemirror_mode": {
    "name": "ipython",
    "version": 3
   },
   "file_extension": ".py",
   "mimetype": "text/x-python",
   "name": "python",
   "nbconvert_exporter": "python",
   "pygments_lexer": "ipython3",
   "version": "3.11.7"
  }
 },
 "nbformat": 4,
 "nbformat_minor": 5
}
